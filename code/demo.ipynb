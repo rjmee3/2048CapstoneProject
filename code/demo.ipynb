{
 "cells": [
  {
   "cell_type": "code",
   "execution_count": 1,
   "metadata": {},
   "outputs": [],
   "source": [
    "# run one game to show how the model does\n",
    "from game import Game\n",
    "from agent import Agent"
   ]
  },
  {
   "cell_type": "code",
   "execution_count": 2,
   "metadata": {},
   "outputs": [],
   "source": [
    "version = \"demo_version\"\n",
    "\n",
    "# change seeds or let the agent play more games to see a greater variety of results\n",
    "\n",
    "# creating the environment\n",
    "env = Game(size=4, \n",
    "           seed=42, \n",
    "           negative_reward=-2, \n",
    "           tile_move_penalty=0.1)\n",
    "\n",
    "# Create the agent\n",
    "agent = Agent(state_size=env.state_size * 18, \n",
    "              action_size=env.action_size,\n",
    "              seed=42, \n",
    "              fc1_units=2048, \n",
    "              fc2_units=1024, \n",
    "              fc3_units=512,\n",
    "              buffer_size=1000000, \n",
    "              batch_size=1024, \n",
    "              lr=0.00005, \n",
    "              use_expected_rewards=True, \n",
    "              predict_steps=2)\n",
    "\n",
    "# Loading model weights\n",
    "agent.load(version)"
   ]
  },
  {
   "cell_type": "code",
   "execution_count": 3,
   "metadata": {},
   "outputs": [
    {
     "data": {
      "image/png": "[encoded data removed]",
      "text/plain": [
       "<Figure size 300x300 with 16 Axes>"
      ]
     },
     "metadata": {},
     "output_type": "display_data"
    }
   ],
   "source": [
    "# letting the agent play\n",
    "# setting animate to 'True' will clear output after each frame of gameplay\n",
    "# setting animate to 'False' will display every frame of gameplay\n",
    "# apologies for the flicker whilst animating\n",
    "\n",
    "agent.play(env, \n",
    "           num_games=4, \n",
    "           animate=True, \n",
    "           frame_delay=0.)"
   ]
  }
 ],
 "metadata": {
  "kernelspec": {
   "display_name": "Python 3",
   "language": "python",
   "name": "python3"
  },
  "language_info": {
   "codemirror_mode": {
    "name": "ipython",
    "version": 3
   },
   "file_extension": ".py",
   "mimetype": "text/x-python",
   "name": "python",
   "nbconvert_exporter": "python",
   "pygments_lexer": "ipython3",
   "version": "3.12.3"
  }
 },
 "nbformat": 4,
 "nbformat_minor": 2
}
