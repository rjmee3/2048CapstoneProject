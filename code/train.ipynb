{
 "cells": [
  {
   "cell_type": "code",
   "execution_count": null,
   "metadata": {},
   "outputs": [],
   "source": [
    "# used to train network from scratch\n",
    "\n",
    "from game import Game\n",
    "from agent import Agent\n",
    "import training_functions as tf"
   ]
  },
  {
   "cell_type": "code",
   "execution_count": null,
   "metadata": {},
   "outputs": [],
   "source": [
    "version = \"version_5\"\n",
    "\n",
    "env = Game(size=4, \n",
    "           seed=42, \n",
    "           negative_reward=-2, \n",
    "           tile_move_penalty=0.1)\n",
    "eps = 0.001\n",
    "# Create the agent, duplicating default values for visibility\n",
    "agent = Agent(state_size=env.state_size * 18, \n",
    "              action_size=env.action_size,\n",
    "              seed=42, \n",
    "              fc1_units=2048, \n",
    "              fc2_units=1024, \n",
    "              fc3_units = 512,\n",
    "              buffer_size = 1000000, \n",
    "              batch_size = 1024, \n",
    "              lr = 0.00005, \n",
    "              use_expected_rewards=True, \n",
    "              predict_steps = 2)\n",
    "\n",
    "agent.load(version)"
   ]
  },
  {
   "cell_type": "code",
   "execution_count": null,
   "metadata": {},
   "outputs": [],
   "source": [
    "tf.dqn(agent=agent, \n",
    "       env=env,\n",
    "       version=version,\n",
    "       n_episodes=200000,\n",
    "       eps_start=eps,\n",
    "       eps_end=0.00001,\n",
    "       eps_decay=0.999,\n",
    "       start_learn_iterations=10,\n",
    "       print_moves=True)"
   ]
  },
  {
   "cell_type": "code",
   "execution_count": null,
   "metadata": {},
   "outputs": [],
   "source": [
    "env.draw_board(agent.best_val_board, 'Best Tile Board')"
   ]
  }
 ],
 "metadata": {
  "kernelspec": {
   "display_name": "Python 3",
   "language": "python",
   "name": "python3"
  },
  "language_info": {
   "codemirror_mode": {
    "name": "ipython",
    "version": 3
   },
   "file_extension": ".py",
   "mimetype": "text/x-python",
   "name": "python",
   "nbconvert_exporter": "python",
   "pygments_lexer": "ipython3",
   "version": "3.12.3"
  }
 },
 "nbformat": 4,
 "nbformat_minor": 2
}
